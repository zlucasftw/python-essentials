{
 "cells": [
  {
   "metadata": {},
   "cell_type": "markdown",
   "source": [
    "# Snippets - Loop WHILE\n",
    "\n",
    "## Snippet 1\n",
    "\n",
    "while there is something to do\n",
    "    do it\n",
    "\n",
    "## Snippet 2\n",
    "\n",
    "*while* conditional_expression:\n",
    "    instruction\n",
    "    \n",
    "## Snippet 3\n",
    "\n",
    "while conditional_expression:\n",
    "    instruction_one\n",
    "    instruction_two\n",
    "    instruction_three\n",
    "    :\n",
    "    :\n",
    "    instruction_n\n",
    "    "
   ],
   "id": "2485dd8921799303"
  },
  {
   "metadata": {},
   "cell_type": "markdown",
   "source": "",
   "id": "ab8be76a8ca98465"
  },
  {
   "metadata": {},
   "cell_type": "code",
   "outputs": [],
   "execution_count": null,
   "source": "",
   "id": "87440233e8e8a3fd"
  }
 ],
 "metadata": {
  "kernelspec": {
   "display_name": "Python 3",
   "language": "python",
   "name": "python3"
  },
  "language_info": {
   "codemirror_mode": {
    "name": "ipython",
    "version": 2
   },
   "file_extension": ".py",
   "mimetype": "text/x-python",
   "name": "python",
   "nbconvert_exporter": "python",
   "pygments_lexer": "ipython2",
   "version": "2.7.6"
  }
 },
 "nbformat": 4,
 "nbformat_minor": 5
}
